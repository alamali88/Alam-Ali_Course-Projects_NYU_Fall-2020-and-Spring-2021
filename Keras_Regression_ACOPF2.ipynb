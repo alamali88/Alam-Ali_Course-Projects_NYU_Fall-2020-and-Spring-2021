{
  "nbformat": 4,
  "nbformat_minor": 0,
  "metadata": {
    "kernelspec": {
      "display_name": "Python 3",
      "language": "python",
      "name": "python3"
    },
    "language_info": {
      "codemirror_mode": {
        "name": "ipython",
        "version": 3
      },
      "file_extension": ".py",
      "mimetype": "text/x-python",
      "name": "python",
      "nbconvert_exporter": "python",
      "pygments_lexer": "ipython3",
      "version": "3.6.8"
    },
    "colab": {
      "name": "Keras_Regression_ACOPF2.ipynb",
      "provenance": [],
      "collapsed_sections": [],
      "include_colab_link": true
    }
  },
  "cells": [
    {
      "cell_type": "markdown",
      "metadata": {
        "id": "view-in-github",
        "colab_type": "text"
      },
      "source": [
        "<a href=\"https://colab.research.google.com/github/alamali88/Alam-Ali_ML_Project_Fall-2020/blob/main/Keras_Regression_ACOPF2.ipynb\" target=\"_parent\"><img src=\"https://colab.research.google.com/assets/colab-badge.svg\" alt=\"Open In Colab\"/></a>"
      ]
    },
    {
      "cell_type": "code",
      "metadata": {
        "colab": {
          "base_uri": "https://localhost:8080/"
        },
        "id": "PTbmXOLumU-O",
        "outputId": "83cc24bb-b3a2-4225-a28c-4d5da930dd6e"
      },
      "source": [
        "from pandas import read_csv\n",
        "import matplotlib.pyplot as plt\n",
        "import numpy as np\n",
        "import pandas as pd\n",
        "from sklearn.model_selection import train_test_split\n",
        "from sklearn.model_selection import cross_val_score\n",
        "from sklearn.model_selection import KFold\n",
        "from sklearn.pipeline import Pipeline\n",
        "from sklearn.preprocessing import MinMaxScaler\n",
        "import tensorflow as tf\n",
        "from tensorflow.python.keras.models import Sequential\n",
        "from tensorflow.python.keras.layers import Dense\n",
        "from tensorflow.python.keras.layers import LeakyReLU\n",
        "from tensorflow.python.keras.layers import BatchNormalization\n",
        "from tensorflow.python.keras.wrappers.scikit_learn import KerasRegressor\n",
        "from keras.constraints import max_norm\n",
        "\n",
        "# load dataset\n",
        "\n",
        "system = \"14\"\n",
        "\n",
        "dataframeX = read_csv(\"/content/drive/MyDrive/14result_overall_in.csv\", delimiter=',', header=None)\n",
        "X = dataframeX.values[0:]\n",
        "dataframeY = read_csv(\"/content/drive/MyDrive/14result_overall_out.csv\", delimiter=',', header=None)\n",
        "Y = dataframeY.values\n",
        "\n",
        "\n",
        "# split into input (X) and output (Y) variables\n",
        "print (len(X))\n",
        "print (X.shape)\n",
        "\n",
        "print (len(Y))\n",
        "print (Y.shape)\n",
        "nsamples = X.shape[0]\n",
        "npredictors = X.shape[1]\n",
        "noutvars = Y.shape[1]\n",
        "print (npredictors)\n",
        "print (noutvars)"
      ],
      "execution_count": 31,
      "outputs": [
        {
          "output_type": "stream",
          "text": [
            "70677\n",
            "(70677, 60)\n",
            "70677\n",
            "(70677, 38)\n",
            "60\n",
            "38\n"
          ],
          "name": "stdout"
        }
      ]
    },
    {
      "cell_type": "code",
      "metadata": {
        "colab": {
          "base_uri": "https://localhost:8080/"
        },
        "id": "xwc2x6xooTig",
        "outputId": "2e85f053-d60c-4bfd-eb19-e2841618162a"
      },
      "source": [
        "from google.colab import drive\n",
        "drive.mount('/content/drive')"
      ],
      "execution_count": 23,
      "outputs": [
        {
          "output_type": "stream",
          "text": [
            "Drive already mounted at /content/drive; to attempt to forcibly remount, call drive.mount(\"/content/drive\", force_remount=True).\n"
          ],
          "name": "stdout"
        }
      ]
    },
    {
      "cell_type": "code",
      "metadata": {
        "colab": {
          "base_uri": "https://localhost:8080/"
        },
        "id": "BxHguPtamU-h",
        "outputId": "985e596e-d140-4fe2-851b-33625d164a2b"
      },
      "source": [
        "model = Sequential() # do this every time to reset the model!\n",
        "model.add(Dense(npredictors, input_dim=npredictors, kernel_initializer='normal', activation='tanh'))\n",
        "model.add(Dense(10000, activation='relu'))\n",
        "model.add(Dense(noutvars, activation='linear'))#,kernel_constraint=max_norm(3), bias_constraint=max_norm(3)))\n",
        "\n",
        "model.summary()\n",
        "opt = tf.keras.optimizers.Adam(learning_rate=0.00007)\n",
        "model.compile(loss='mse', optimizer=opt, metrics=['mse','mae'])"
      ],
      "execution_count": 24,
      "outputs": [
        {
          "output_type": "stream",
          "text": [
            "Model: \"sequential_1\"\n",
            "_________________________________________________________________\n",
            "Layer (type)                 Output Shape              Param #   \n",
            "=================================================================\n",
            "dense_3 (Dense)              (None, 60)                3660      \n",
            "_________________________________________________________________\n",
            "dense_4 (Dense)              (None, 10000)             610000    \n",
            "_________________________________________________________________\n",
            "dense_5 (Dense)              (None, 38)                380038    \n",
            "=================================================================\n",
            "Total params: 993,698\n",
            "Trainable params: 993,698\n",
            "Non-trainable params: 0\n",
            "_________________________________________________________________\n"
          ],
          "name": "stdout"
        }
      ]
    },
    {
      "cell_type": "code",
      "metadata": {
        "scrolled": true,
        "colab": {
          "base_uri": "https://localhost:8080/"
        },
        "id": "CogAoInYmU-j",
        "outputId": "de0ad782-0f10-45a4-9aaf-9c256ffb4b4d"
      },
      "source": [
        "history = model.fit(X, Y, epochs=5, batch_size=64,  verbose=1, validation_split=0.2)"
      ],
      "execution_count": 25,
      "outputs": [
        {
          "output_type": "stream",
          "text": [
            "Epoch 1/5\n",
            "884/884 [==============================] - 15s 17ms/step - loss: 0.0965 - mse: 0.0965 - mae: 0.1489 - val_loss: 0.0032 - val_mse: 0.0032 - val_mae: 0.0340\n",
            "Epoch 2/5\n",
            "884/884 [==============================] - 15s 17ms/step - loss: 0.0030 - mse: 0.0030 - mae: 0.0325 - val_loss: 0.0026 - val_mse: 0.0026 - val_mae: 0.0289\n",
            "Epoch 3/5\n",
            "884/884 [==============================] - 15s 17ms/step - loss: 0.0026 - mse: 0.0026 - mae: 0.0280 - val_loss: 0.0024 - val_mse: 0.0024 - val_mae: 0.0258\n",
            "Epoch 4/5\n",
            "884/884 [==============================] - 15s 17ms/step - loss: 0.0023 - mse: 0.0023 - mae: 0.0255 - val_loss: 0.0021 - val_mse: 0.0021 - val_mae: 0.0252\n",
            "Epoch 5/5\n",
            "884/884 [==============================] - 15s 17ms/step - loss: 0.0018 - mse: 0.0018 - mae: 0.0207 - val_loss: 9.2395e-04 - val_mse: 9.2395e-04 - val_mae: 0.0152\n"
          ],
          "name": "stdout"
        }
      ]
    },
    {
      "cell_type": "code",
      "metadata": {
        "id": "XuH1Y7womU-k"
      },
      "source": [
        "model.save(system+'busNN.h5')"
      ],
      "execution_count": 28,
      "outputs": []
    },
    {
      "cell_type": "code",
      "metadata": {
        "colab": {
          "base_uri": "https://localhost:8080/",
          "height": 312
        },
        "id": "GOWtoxiSmU-l",
        "outputId": "08b250be-f92c-4fbb-c8ff-b13ba8b1f250"
      },
      "source": [
        "print(history.history.keys())\n",
        "# \"Loss\"\n",
        "plt.plot(history.history['loss'])\n",
        "plt.plot(history.history['val_loss'])\n",
        "plt.title('model loss')\n",
        "plt.ylabel('loss')\n",
        "plt.xlabel('epoch')\n",
        "plt.legend(['train', 'validation'], loc='upper right')\n",
        "plt.show()"
      ],
      "execution_count": 29,
      "outputs": [
        {
          "output_type": "stream",
          "text": [
            "dict_keys(['loss', 'mse', 'mae', 'val_loss', 'val_mse', 'val_mae'])\n"
          ],
          "name": "stdout"
        },
        {
          "output_type": "display_data",
          "data": {
            "image/png": "[encoded data removed]",
            "text/plain": [
              "<Figure size 432x288 with 1 Axes>"
            ]
          },
          "metadata": {
            "tags": [],
            "needs_background": "light"
          }
        }
      ]
    },
    {
      "cell_type": "code",
      "metadata": {
        "id": "7paE4h0TmU-m"
      },
      "source": [
        ""
      ],
      "execution_count": null,
      "outputs": []
    },
    {
      "cell_type": "code",
      "metadata": {
        "id": "mBYKu-SLmU-m"
      },
      "source": [
        ""
      ],
      "execution_count": null,
      "outputs": []
    },
    {
      "cell_type": "code",
      "metadata": {
        "id": "cihmCZ8ImU-n"
      },
      "source": [
        ""
      ],
      "execution_count": null,
      "outputs": []
    },
    {
      "cell_type": "code",
      "metadata": {
        "id": "bykyJFDumU-o"
      },
      "source": [
        ""
      ],
      "execution_count": null,
      "outputs": []
    }
  ]
}